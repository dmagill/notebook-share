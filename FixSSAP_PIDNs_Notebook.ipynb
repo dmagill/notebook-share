{
 "cells": [
  {
   "cell_type": "markdown",
   "metadata": {},
   "source": [
    "# Update address point PIDNs from parcel layer\n",
    "To do the above, this script will:\n",
    "1. Copy a stripped down version of parcel data to an in-memory feature class\n",
    "2. Use an intersect operation on the above to create a layer of overlapping parcel polygons, to document corrupt data which will be excluded as a source for address point updates\n",
    "3. Copy stripped down address point data into in-memory feature class\n",
    "4. Do a spatial join of our two in-memory feature classes, outputting to a 3rd in-memory feature class\n",
    "5. Scan and filter the above feature class to create a Python dictionary which contains PIDN mismatches for parcels and their contained address points\n",
    "6. Give user a total count of mismatches and allow viewing of these\n",
    "7. Allow user to perform a bulk update of address points with mismatches"
   ]
  },
  {
   "cell_type": "markdown",
   "metadata": {},
   "source": [
    "## Preparation"
   ]
  },
  {
   "cell_type": "code",
   "execution_count": 72,
   "metadata": {},
   "outputs": [],
   "source": [
    "# following list needs to be defined w/ fields in this order,\n",
    "# script won't work at all if PIDN is not first\n",
    "SSAP_DesiredFieldList = ['PIDN', 'GlobalID', 'Add_Number', 'St_PreDir', 'St_Name',\n",
    "     'St_PosTyp', 'St_PosDir', 'Inc_Muni' ]\n",
    "\n",
    "import arcpy\n",
    "thisProj = arcpy.mp.ArcGISProject('CURRENT')"
   ]
  },
  {
   "cell_type": "code",
   "execution_count": 73,
   "metadata": {},
   "outputs": [
    {
     "name": "stdout",
     "output_type": "stream",
     "text": [
      "\n"
     ]
    }
   ],
   "source": [
    "print()\n",
    "thisMap = thisProj.activeMap\n",
    "if not thisMap:\n",
    "    sys.stdout.write('\\n'*4 + '    ' + '#'*73)\n",
    "    print('''\n",
    "    ###                                                                   ###\n",
    "    ###  No active map. Check that a map with parcels and SSAPs is open,  ###\n",
    "    ###  click on the map pane, and re-run this cell.                     ###\n",
    "    ###                                                                   ###''')\n",
    "    print('    ' + '#'*73 + '\\n'*4)\n"
   ]
  },
  {
   "cell_type": "code",
   "execution_count": 74,
   "metadata": {},
   "outputs": [
    {
     "name": "stdout",
     "output_type": "stream",
     "text": [
      "\n"
     ]
    }
   ],
   "source": [
    "print()\n",
    "if not thisMap:\n",
    "    raise UserWarning('See message in previous cell and fix.')"
   ]
  },
  {
   "cell_type": "markdown",
   "metadata": {},
   "source": [
    "Get references to our source layers. For simplicity, we'll just use the layer names from our map and let our script find the full path/url to the data source.\n",
    "### Change values in following cell as needed to layer names per your active map.\n",
    "These layer names will be validated in the cell after the next one."
   ]
  },
  {
   "cell_type": "code",
   "execution_count": 75,
   "metadata": {},
   "outputs": [],
   "source": [
    "parcelLayerName = 'Parcels'  # CHANGE AS NEEDED\n",
    "ssapLayerName = 'SSAP_YorkCityTestCopy_onAGOL'  # CHANGE AS NEEDED"
   ]
  },
  {
   "cell_type": "markdown",
   "metadata": {},
   "source": [
    "### Following cell gets & validates parcel and SSAP layers"
   ]
  },
  {
   "cell_type": "code",
   "execution_count": 76,
   "metadata": {},
   "outputs": [
    {
     "name": "stdout",
     "output_type": "stream",
     "text": [
      "Parcels data source: \n",
      "  https://arcweb1.ycpc.org/server/rest/services/OPEN_DATA/Parcels/MapServer/0\n",
      "SSAP data source: \n",
      "  https://services.arcgis.com/1nZgnYZACdwzrFHH/arcgis/rest/services/SSAP_YorkCityTestCopy/FeatureServer/0\n",
      "\n",
      "\n",
      "    Layers validated.  Continue.\n",
      "    \n",
      "    \n"
     ]
    }
   ],
   "source": [
    "\n",
    "parcelLayer = ssapLayer = None\n",
    "try:\n",
    "    parcelLayer = thisMap.listLayers(parcelLayerName)[0]\n",
    "except:\n",
    "    print(f'Layer {parcelLayerName} not found in active map. Check spelling/punctuation')\n",
    "try:\n",
    "    ssapLayer = thisMap.listLayers(ssapLayerName)[0]\n",
    "except:\n",
    "    print(f'Layer {ssapLayerName} not found in active map. Check spelling/punctuation')\n",
    "\n",
    "if parcelLayer and ssapLayer:\n",
    "    print(f'''\n",
    "Parcels data source: \n",
    "  {parcelLayer.dataSource}\n",
    "SSAP data source: \n",
    "  {ssapLayer.dataSource}\n",
    "    ''')\n",
    "\n",
    "if parcelLayer:\n",
    "    parcelLayerHasPIDN = False\n",
    "    try:\n",
    "        arcpy.ListFields(parcelLayer.dataSource, 'PIDN')[0]\n",
    "        parcelLayerHasPIDN = True\n",
    "    except:\n",
    "        print(f'Field PIDN is missing from parcel layer {parcelLayerName}')\n",
    "\n",
    "if ssapLayer:\n",
    "    ssapFieldList = [ field.name for\n",
    "                             field in arcpy.ListFields(ssapLayer.dataSource) ]\n",
    "    ssapLayerHasReqdFields = True # unless changed below\n",
    "    for thisField in SSAP_DesiredFieldList:\n",
    "        if not (thisField in ssapFieldList):\n",
    "            ssapLayerHasReqdFields = False\n",
    "            print(f'Field {thisField} missing from {ssapLayerName}')\n",
    "if parcelLayer and ssapLayer and parcelLayerHasPIDN and ssapLayerHasReqdFields:\n",
    "    print('''\n",
    "    Layers validated.  Continue.\n",
    "    \n",
    "    ''')\n",
    "else:\n",
    "    print('''\n",
    "    ####################################################################\n",
    "    ###  This script will not work. Correct previous cell, or stop.  ###\n",
    "    ####################################################################\n",
    "    ''')"
   ]
  },
  {
   "cell_type": "markdown",
   "metadata": {
    "heading_collapsed": true
   },
   "source": [
    "## Use definition queries in ssap & parcel layers?\n",
    "Set to True or False in the following cell.\n",
    "If 'True', definition queries will be honored. This also means that if any parcels or SSAPs have been selected in these layers, *only* these parcels/SSAPs will be used to correct PIDNs in the rest of the workflow."
   ]
  },
  {
   "cell_type": "code",
   "execution_count": 77,
   "metadata": {
    "hidden": true
   },
   "outputs": [],
   "source": [
    "USE_DEFINITION_QUERIES = True"
   ]
  },
  {
   "cell_type": "markdown",
   "metadata": {},
   "source": [
    "## Get parcel data in-memory (curr. takes 1-2 min)"
   ]
  },
  {
   "cell_type": "markdown",
   "metadata": {},
   "source": [
    "Field mapping can be a pain, but let's use a function to handle the simple case of our output having a subset of input fields, no name changes. We're pulling a lot of data in memory for speed, let's only get what we need."
   ]
  },
  {
   "cell_type": "code",
   "execution_count": 78,
   "metadata": {},
   "outputs": [
    {
     "name": "stdout",
     "output_type": "stream",
     "text": [
      "Getting parcels ...\n",
      "Got 174296 parcels.  Done\n"
     ]
    }
   ],
   "source": [
    "# RUNNING THIS CELL WILL TAKE 1-2 MINUTES\n",
    "\n",
    "tempParcelLayer = 'tempParcelPIDNonly'\n",
    "tempParcelFeat = 'memory/' + tempParcelLayer\n",
    "\n",
    "from arcpy.conversion import ExportFeatures\n",
    "\n",
    "def fieldMapsForSubset(featClass, desiredFieldNameList):\n",
    "    if not ( type(featClass) is str ):\n",
    "        featClass = featClass.dataSource\n",
    "    simpleFieldMaps = arcpy.FieldMappings()\n",
    "    for thisFieldName in desiredFieldNameList:\n",
    "        thisFM = arcpy.FieldMap()\n",
    "        thisFM.addInputField(featClass, thisFieldName)\n",
    "        thisFM.outputField.name = thisFieldName\n",
    "        simpleFieldMaps.addFieldMap(thisFM)\n",
    "    return simpleFieldMaps\n",
    "\n",
    "parcelFieldSubsetMaps = fieldMapsForSubset(parcelLayer, ['PIDN'])\n",
    "print('Getting parcels ...')\n",
    "# using .dataSource below is simple way to ignore selection, ensure completeness\n",
    "if USE_DEFINITION_QUERIES:\n",
    "    ExportFeatures(parcelLayer, tempParcelFeat,\n",
    "      field_mapping=parcelFieldSubsetMaps)\n",
    "else:\n",
    "    ExportFeatures(parcelLayer.dataSource, tempParcelFeat,\n",
    "      field_mapping=parcelFieldSubsetMaps)\n",
    "    \n",
    "parcelCount = int(arcpy.management.GetCount(tempParcelFeat)[0])\n",
    "print('Got {} parcels.  Done'.format(parcelCount))"
   ]
  },
  {
   "cell_type": "markdown",
   "metadata": {},
   "source": [
    "## Find overlapping parcel polygons\n",
    "We want to know, since parcels shouldn't overlap. We'll exclude these when assigning PIDNs to SSAPs.  We'll save the overlaps to an in-memory feature class; the user can export to a file/.gdb if they want.\n",
    "Running this process directly on the AGOL layers would take forever. On our in-memory feature classes it takes under ten seconds."
   ]
  },
  {
   "cell_type": "code",
   "execution_count": 79,
   "metadata": {},
   "outputs": [
    {
     "name": "stdout",
     "output_type": "stream",
     "text": [
      "Starting intersect ...\n",
      "1058 overlapping parcel features found.\n"
     ]
    }
   ],
   "source": [
    "overlapFeat = 'memory/OverlappingParcels'\n",
    "print('Starting intersect ...')\n",
    "arcpy.analysis.PairwiseIntersect(tempParcelFeat, overlapFeat)\n",
    "overlapCount = int(arcpy.management.GetCount(overlapFeat)[0])\n",
    "print(f'{overlapCount} overlapping parcel features found.')\n",
    "if overlapCount == 0:\n",
    "    print(f'Will delete empty layer {overlapFeat}')\n",
    "    arcpy.management.Delete(overlapFeat)"
   ]
  },
  {
   "cell_type": "markdown",
   "metadata": {},
   "source": [
    "## Remove overlaps from in-memory Parcels layer\n",
    "Handling overlaps can be complicated. The 'Intersect' geoprocess finds them, but the count of polygons found this way *may* include hard-to-visualize artifacts/slivers etc, which may be hard to select for deletion w/o also deleting usable parcels from our temporary layer. Below, we will only delete parcel polygons which are 'WITHIN' or 'CONTAINS' an overlap feature created above."
   ]
  },
  {
   "cell_type": "code",
   "execution_count": 80,
   "metadata": {},
   "outputs": [
    {
     "name": "stdout",
     "output_type": "stream",
     "text": [
      "\n",
      "    701 overlapping features to be deleted from memory/tempParcelPIDNonly\n",
      "    which has 174296 features in total.\n",
      "Done.\n"
     ]
    }
   ],
   "source": [
    "if not overlapCount:\n",
    "    print('No overlaps found in previous step, skipping ...')\n",
    "else:\n",
    "    # using feature class, not layer, ignore selection   v\n",
    "    parcelCount = int(arcpy.management.GetCount(tempParcelFeat)[0])\n",
    "    arcpy.management.SelectLayerByLocation(tempParcelLayer,\n",
    "        overlap_type='CONTAINS', select_features=overlapFeat)\n",
    "    arcpy.management.SelectLayerByLocation(tempParcelLayer,\n",
    "        selection_type='ADD_TO_SELECTION',\n",
    "        overlap_type='WITHIN', select_features=overlapFeat)\n",
    "\n",
    "    # NOTE -----------------------------------------------v\n",
    "    selectCount = int(arcpy.management.GetCount(tempParcelLayer)[0])\n",
    "    if (selectCount == 0) or (selectCount == parcelCount):\n",
    "        print('No overlaps selected. Already removed?')\n",
    "    else:\n",
    "        print(f'''\n",
    "    {selectedCount} overlapping features to be deleted from {tempParcelFeat}\n",
    "    which has {parcelCount} features in total.''')\n",
    "        arcpy.management.DeleteFeatures(tempParcelLayer)\n",
    "        print('Done.')\n"
   ]
  },
  {
   "cell_type": "markdown",
   "metadata": {},
   "source": [
    "## Get SSAP data in-memory (1-2 minutes?)\n",
    "Our only SSAP identifier that is unique and guaranteed to exist is the GlobalID. So we want to preserve that when we copy this layer into memory, and when we join these points with parcels, so that after we find mismatches, we can use it to look up the SSAPs we want to update. GlobalID may be overwritten for many geoprocessing operations unless we set the flag to preserve it, which we do before copying SSAPs into memory."
   ]
  },
  {
   "cell_type": "code",
   "execution_count": 81,
   "metadata": {},
   "outputs": [
    {
     "name": "stdout",
     "output_type": "stream",
     "text": [
      "Getting SSAPs ...\n",
      "Got 782 SSAPs.  Done\n"
     ]
    }
   ],
   "source": [
    "# RUNNING THIS CELL WILL TAKE LONGER THAN GETTING PARCEL DATA\n",
    "# BUT FOR ME, STILL UNDER 2 MINUTES\n",
    "\n",
    "from arcpy.management import CalculateField\n",
    "\n",
    "tempSSAP_Feat = 'memory/tempSSAP'\n",
    "SSAP_FieldSubsetMaps = fieldMapsForSubset(ssapLayer, SSAP_DesiredFieldList)\n",
    "print('Getting SSAPs ...')\n",
    "\n",
    "arcpy.env.preserveGlobalIds = True\n",
    "\n",
    "if USE_DEFINITION_QUERIES:\n",
    "    ExportFeatures(ssapLayer, tempSSAP_Feat,\n",
    "      field_mapping=SSAP_FieldSubsetMaps)\n",
    "else:\n",
    "    ExportFeatures(ssapLayer.dataSource, tempSSAP_Feat,\n",
    "      field_mapping=SSAP_FieldSubsetMaps)\n",
    "    \n",
    "# THIS NEXT STEP IS HOW WE CAN PRESERVE THIS GlobalID DURING UPCOMING JOIN\n",
    "CalculateField('tempSSAP', 'SSAP_GlobalID', field_type='TEXT',\n",
    "    expression='!GlobalID!.lower()')\n",
    "# NOTE: On AGOL, GlobalIDs are   ^  lower case\n",
    "\n",
    "ssapCount = int(arcpy.management.GetCount(tempSSAP_Feat)[0])\n",
    "print(f'Got {ssapCount} SSAPs.  Done')"
   ]
  },
  {
   "cell_type": "markdown",
   "metadata": {},
   "source": [
    "## Join SSAP w/ Parcels\n",
    "Preserving GlobalID, this time by calculating it into another field. Note that the other field type is 'TEXT' instead of GUID, since on AGOL GlobalIDs seem to be lower case, and our SQL select will fail if we try to select w/ an uppercase value."
   ]
  },
  {
   "cell_type": "code",
   "execution_count": 82,
   "metadata": {},
   "outputs": [
    {
     "name": "stdout",
     "output_type": "stream",
     "text": [
      "Joining ...\n",
      "782 join features created\n",
      "Deleting temporary SSAP and Parcel copy layers\n"
     ]
    },
    {
     "data": {
      "text/html": [
       "<div class='gpresult'><h2>Messages</h2><div id='messages' data-messages='[\"Start Time: Monday, April 17, 2023 3:13:45 PM\",\"Succeeded at Monday, April 17, 2023 3:13:45 PM (Elapsed Time: 0.21 seconds)\"]' data-show='true'><div id = 'default' /></div></div>"
      ],
      "text/plain": [
       "<Result 'true'>"
      ]
     },
     "execution_count": 82,
     "metadata": {},
     "output_type": "execute_result"
    }
   ],
   "source": [
    "tempParcelSSAP_JoinLayer = 'tempParcelSSAP_Join'\n",
    "tempParcelSSAP_JoinFeat = 'memory/' + tempParcelSSAP_JoinLayer\n",
    "\n",
    "arcpy.env.preserveGlobalIds = True\n",
    "print('Joining ...')\n",
    "arcpy.analysis.SpatialJoin(tempSSAP_Feat, tempParcelFeat,\n",
    "    tempParcelSSAP_JoinFeat, match_option='WITHIN',\n",
    "    join_type='KEEP_COMMON')\n",
    "\n",
    "joinCount = int(arcpy.management.GetCount(tempParcelSSAP_JoinFeat)[0])\n",
    "print(f'{joinCount} join features created')\n",
    "    \n",
    "print('Deleting temporary SSAP and Parcel copy layers')\n",
    "arcpy.management.Delete(tempParcelFeat)\n",
    "arcpy.management.Delete(tempSSAP_Feat)"
   ]
  },
  {
   "cell_type": "markdown",
   "metadata": {},
   "source": [
    "# Create Python dictionary list from mismatches in join layer"
   ]
  },
  {
   "cell_type": "code",
   "execution_count": 83,
   "metadata": {},
   "outputs": [
    {
     "name": "stdout",
     "output_type": "stream",
     "text": [
      "92 PIDN mismatches found.\n",
      "Deleting temporary join layer\n",
      "Done\n"
     ]
    }
   ],
   "source": [
    "from arcpy.da import SearchCursor\n",
    "\n",
    "joinFieldList = [ 'PIDN_1' ] + SSAP_DesiredFieldList\n",
    "joinFieldList.remove('GlobalID')\n",
    "joinFieldList += [ 'SSAP_GlobalID' ]\n",
    "PIDN_CorrectionList = []\n",
    "\n",
    "arcpy.env.preserveGlobalIds = True\n",
    "with SearchCursor(tempParcelSSAP_JoinFeat, joinFieldList) as theCursor:\n",
    "    for thisRow in theCursor:\n",
    "        PIDNperParcel = thisRow[0] # PIDN_1\n",
    "        ssapPIDN = thisRow[1] # PIDN\n",
    "        if ssapPIDN == PIDNperParcel:\n",
    "            continue\n",
    "        dataDict = {}\n",
    "        valueList = list(thisRow)  # make it 'poppable'\n",
    "        for thisField in joinFieldList:\n",
    "            fieldValue = valueList.pop(0)\n",
    "            if thisField == 'PIDN':\n",
    "                thisField = 'CurrentPIDN'\n",
    "            elif thisField == 'PIDN_1':\n",
    "                thisField = 'CorrectPIDN'\n",
    "            dataDict[thisField] = fieldValue\n",
    "        PIDN_CorrectionList += [ dataDict ]\n",
    "\n",
    "if PIDN_CorrectionList:\n",
    "    mismatchFound = True\n",
    "    print(f'{len(PIDN_CorrectionList)} PIDN mismatches found.')\n",
    "else:\n",
    "    mismatchFound = False\n",
    "    print('No PIDN mismatches found.')\n",
    "\n",
    "print('Deleting temporary join layer')  \n",
    "arcpy.management.Delete(tempParcelSSAP_JoinFeat)\n",
    "print('Done')"
   ]
  },
  {
   "cell_type": "markdown",
   "metadata": {},
   "source": [
    "## Look at our list of corrections"
   ]
  },
  {
   "cell_type": "code",
   "execution_count": 84,
   "metadata": {},
   "outputs": [
    {
     "name": "stdout",
     "output_type": "stream",
     "text": [
      "PIDN: 0713603001300 => 0713603001400  521 East Philadelphia Street York City \n",
      "PIDN: 1237207005300 => 1237207005200  830 East Philadelphia Street York City \n",
      "PIDN: 11312060005A0 => 11312060005B0  475 West Philadelphia Street York City \n",
      "PIDN: 0202902001500 => 0202902001400  351 East Philadelphia Street York City \n",
      "PIDN: 1237608001600 => 1237608001700  691 East Philadelphia Street York City \n",
      "PIDN: 1237507001000 => 1237507001200  723 East Philadelphia Street York City \n",
      "PIDN: 1237507001700 => 1237507001800  737 East Philadelphia Street York City \n",
      "PIDN: 1237908003200 => 1237908003300  510 East Philadelphia Street York City \n",
      "PIDN: 1237407006000 => 1237407006100  708 East Philadelphia Street York City \n",
      "PIDN: 1237708003800 => 1237708003900  658 East Philadelphia Street York City \n",
      "PIDN: 1237507001400 => 1237507001500  731 East Philadelphia Street York City \n",
      "PIDN: 1237708005000 => 1237708005100  688 East Philadelphia Street York City \n",
      "PIDN: 1237708004600 => 1237708004700  678 East Philadelphia Street York City \n",
      "PIDN: 1237407006500 => 1237407006600  720 East Philadelphia Street York City \n",
      "PIDN: 1237507000300 => 1237507000400  707 East Philadelphia Street York City \n",
      "PIDN: 1237407006800 => 1237407006900  726 East Philadelphia Street York City \n",
      "PIDN: 1237507002500 => 1237507002600  755 East Philadelphia Street York City \n",
      "PIDN: 1237207007500 => 1237207007400  827 East Philadelphia Street York City \n",
      "PIDN: 0713603001100 => 0713603001200  517 East Philadelphia Street York City \n",
      "PIDN: 1237407005600 => 1237407005700  700 East Philadelphia Street York City \n",
      "PIDN: 1237207005200 => 1237207005100  828 East Philadelphia Street York City \n",
      "PIDN: 1237207004100 => 1237207004000  806 East Philadelphia Street York City \n",
      "PIDN: 1237207004300 => 1237207004200  810 East Philadelphia Street York City \n",
      "PIDN: 1237708003500 => 1237708003600  650 East Philadelphia Street York City \n",
      "PIDN: 1237608000800 => 1237608000900  665 East Philadelphia Street York City \n",
      "PIDN: 1237708005100 => 1237708005200  690 East Philadelphia Street York City \n",
      "PIDN: 0713603001800 => 0713603001900  531 East Philadelphia Street York City \n",
      "PIDN: 1237608001500 => 1237608001600  689 East Philadelphia Street York City \n",
      "PIDN: 0202902000900 => 0202902000800  337 East Philadelphia Street York City \n",
      "PIDN: 1237908003700 => 1237908003800  520 East Philadelphia Street York City \n",
      "PIDN: 1237207004800 => 1237207004700  820 East Philadelphia Street York City \n",
      "PIDN: 1237207004200 => 1237207004100  808 East Philadelphia Street York City \n",
      "PIDN: 1237808004100 => 1237808004200  630 East Philadelphia Street York City \n",
      "PIDN: 1237908004200 => 1237908004300  532 East Philadelphia Street York City \n",
      "PIDN: 1237708004500 => 1237708004600  676 East Philadelphia Street York City \n",
      "PIDN: 1237507000500 => 1237507000600  713 East Philadelphia Street York City \n",
      "PIDN: 1237507002300 => 1237507002500  751 East Philadelphia Street York City \n",
      "PIDN: 0713603000700 => 0713603000800  509 East Philadelphia Street York City \n",
      "PIDN: 1237507000400 => 1237507000500  709 East Philadelphia Street York City \n",
      "PIDN: 1237507002100 => 1237507002200  747 East Philadelphia Street York City \n",
      "PIDN: 1131105000900 => 1131105000800  517 West Philadelphia Street York City \n",
      "PIDN: 1237908003600 => 1237908003700  518 East Philadelphia Street York City \n",
      "PIDN: 1237608000700 => 1237608000800  663 East Philadelphia Street York City \n",
      "PIDN: 0713603001700 => 0713603001800  529 East Philadelphia Street York City \n",
      "PIDN: 1237808003000 => 1237808003100  600 East Philadelphia Street York City \n",
      "PIDN: 1237608000600 => 1237608000700  661 East Philadelphia Street York City \n",
      "PIDN: 1237808004200 => 1237808004300  634 East Philadelphia Street York City \n",
      "PIDN: 1237808003800 => 1237808003900  622 East Philadelphia Street York City \n",
      "PIDN: 1237708004100 => 1237708004200  668 East Philadelphia Street York City \n",
      "PIDN: 1131105000800 => 1131105000700  515 West Philadelphia Street York City \n",
      "PIDN: 1237708004900 => 1237708005000  686 East Philadelphia Street York City \n",
      "PIDN: 1237608001900 => 1237608002000  697 East Philadelphia Street York City \n",
      "PIDN: 0713603001200 => 0713603001300  519 East Philadelphia Street York City \n",
      "PIDN: 1237207007600 => 1237207007500  829 East Philadelphia Street York City \n",
      "PIDN: 0713603000800 => 0713603000900  511 East Philadelphia Street York City \n",
      "PIDN: 1237507000800 => 1237507000900  719 East Philadelphia Street York City \n",
      "PIDN: 1237608001700 => 1237608001800  693 East Philadelphia Street York City \n",
      "PIDN: 1237808003700 => 1237808003800  620 East Philadelphia Street York City \n",
      "PIDN: 1237708003700 => 1237708003800  656 East Philadelphia Street York City \n",
      "PIDN: 0202902000200 => 0202902000100  323 East Philadelphia Street York City \n",
      "PIDN: 0713603000300 => 0713603000400  501 East Philadelphia Street York City \n",
      "PIDN: 1237708004200 => 1237708004300  670 East Philadelphia Street York City \n",
      "PIDN: 1237207005500 => 1237207005400  834 East Philadelphia Street York City \n",
      "PIDN: 1237407006200 => 1237407006300  714 East Philadelphia Street York City \n",
      "PIDN: 1237507001600 => 1237507001700  735 East Philadelphia Street York City \n",
      "PIDN: 1237507001100 => 1237507001300  725 East Philadelphia Street York City \n",
      "PIDN: 1237507000200 => 1237507000300  705 East Philadelphia Street York City \n",
      "PIDN: 1237507000900 => 1237507001100  721 East Philadelphia Street York City \n",
      "PIDN: 1237207004400 => 1237207004300  812 East Philadelphia Street York City \n",
      "PIDN: 1237507001500 => 1237507001600  733 East Philadelphia Street York City \n",
      "PIDN: 1237407005800 => 1237407005900  704 East Philadelphia Street York City \n",
      "PIDN: 1237407005700 => 1237407005800  702 East Philadelphia Street York City \n",
      "PIDN: 1237507002200 => 1237507002300  749 East Philadelphia Street York City \n",
      "PIDN: 1237207005100 => 1237207005000  826 East Philadelphia Street York City \n",
      "PIDN: 1237708004700 => 1237708004800  680 East Philadelphia Street York City \n",
      "PIDN: 11312060005B0 => 11312060005A0  475 West Philadelphia Street York City \n",
      "PIDN: 1237507000100 => 1237507000200  701 East Philadelphia Street York City \n",
      "PIDN: 1237507001300 => 1237507001400  729 East Philadelphia Street York City \n",
      "PIDN: 1237507001800 => 1237507001900  739 East Philadelphia Street York City \n",
      "PIDN: 0713603001600 => 0713603001700  527 East Philadelphia Street York City \n",
      "PIDN: 1237207008600 => 1237207008500  849 East Philadelphia Street York City \n",
      "PIDN: 1237908003300 => 1237908003400  512 East Philadelphia Street York City \n",
      "PIDN: 1237808003600 => 1237808003700  618 East Philadelphia Street York City \n",
      "PIDN: 1237407006100 => 1237407006200  710 East Philadelphia Street York City \n",
      "PIDN: 1237708005200 => 1237708005300  692 East Philadelphia Street York City \n",
      "PIDN: 1237407006400 => 1237407006500  718 East Philadelphia Street York City \n",
      "PIDN: 1237207004700 => 1237207004600  818 East Philadelphia Street York City \n",
      "PIDN: 1237207008800 => 1237207008700  853 East Philadelphia Street York City \n",
      "PIDN: 1237207008900 => 1237207008800  855 East Philadelphia Street York City \n",
      "PIDN: 1237207009000 => 1237207008900  857 East Philadelphia Street York City \n",
      "PIDN: 1237006005100 => 1237006005000  938 East Philadelphia Street York City \n",
      "PIDN: 1237207008700 => 1237207008600  851 East Philadelphia Street York City \n",
      "Addresses above rough guide: modifiers not included\n",
      "92 PIDN mismatches\n",
      "\n",
      "        All PIDN corrections from parcel layer look reasonable\n",
      "          (13 chars w/ no spaces)\n",
      "        \n"
     ]
    }
   ],
   "source": [
    "PRINT_LINE_LIMIT = 1000\n",
    "\n",
    "addressFields = SSAP_DesiredFieldList.copy()\n",
    "addressFields.remove('PIDN')\n",
    "addressFields.remove('GlobalID')\n",
    "\n",
    "def addressStringFromCorrectionEntry(fixDict):\n",
    "    addrString = ''\n",
    "    for thisField in addressFields:\n",
    "        if fixDict[thisField]:\n",
    "            thisString = str(fixDict[thisField]).strip()\n",
    "            if thisString:\n",
    "                addrString += thisString + ' '\n",
    "    return addrString\n",
    "    \n",
    "PIDN_Issue = False\n",
    "\n",
    "if not mismatchFound:\n",
    "    print('No mismatches were found -- skipping ...')\n",
    "else:\n",
    "    printLineCount = 0\n",
    "    for thisFix in PIDN_CorrectionList:\n",
    "        fixString = '{} => {}'.format(\n",
    "            thisFix['CurrentPIDN'], thisFix['CorrectPIDN'])\n",
    "        addrString = addressStringFromCorrectionEntry(thisFix)\n",
    "        if printLineCount <= PRINT_LINE_LIMIT:\n",
    "            print(f'PIDN: {fixString}  {addrString}')\n",
    "        newPIDN = thisFix['CorrectPIDN']\n",
    "        \n",
    "        # bad PIDNs won't happen often, so we'll print regardless of line limit\n",
    "        if len(newPIDN) != 13:\n",
    "            PIDN_Issue = True\n",
    "            print(f'  *** new PIDN >{newPIDN}< is not 13 characters')\n",
    "        if ' ' in newPIDN:\n",
    "            PIDN_Issue = True\n",
    "            print(f'  *** new PIDN >{newPIDN}< contains a space')\n",
    "        printLineCount += 1\n",
    "    \n",
    "    print('Addresses above rough guide: modifiers not included')\n",
    "    \n",
    "    print(f'{len(PIDN_CorrectionList)} PIDN mismatches')\n",
    "    if printLineCount > PRINT_LINE_LIMIT:\n",
    "        print(f'''\n",
    "        Did not print all mismatches, over PRINT_LINE_LIMIT = {PRINT_LINE_LIMIT}\n",
    "        But will apply *all* changes to SSAP layer if you continue''')\n",
    "        \n",
    "    if PIDN_Issue:\n",
    "        print('''\n",
    "Note that one of the new PIDNs had a space or was not 13 characters\n",
    "        ''')\n",
    "    else:\n",
    "        print('''\n",
    "        All PIDN corrections from parcel layer look reasonable\n",
    "          (13 chars w/ no spaces)\n",
    "        ''')"
   ]
  },
  {
   "cell_type": "markdown",
   "metadata": {},
   "source": [
    "# Run following cell for information on applying above changes"
   ]
  },
  {
   "cell_type": "code",
   "execution_count": 78,
   "metadata": {},
   "outputs": [
    {
     "name": "stdout",
     "output_type": "stream",
     "text": [
      "\n",
      "To update PIDNs per above for SSAP_YorkCityTestCopy_onAGOL layer\n",
      "(https://services.arcgis.com/1nZgnYZACdwzrFHH/arcgis/rest/services/SSAP_YorkCityTestCopy/FeatureServer/0)\n",
      "\n",
      "Run the cell after 'Enable full updates' *or* 'Enable *One* update',\n",
      "*then* run the following cell\n",
      "\n"
     ]
    }
   ],
   "source": [
    "ENABLE_UPDATE = False\n",
    "UPDATE_ONE_ONLY = False\n",
    "UPDATE_MINUTES_MAXIMUM = None\n",
    "print(f'''\n",
    "To update PIDNs per above for {ssapLayer.name} layer\n",
    "({ssapLayer.dataSource})\n",
    "\n",
    "Run the cell after 'Enable full updates' *or* 'Enable *One* update',\n",
    "*then* run the following cell\n",
    "''')"
   ]
  },
  {
   "cell_type": "code",
   "execution_count": 82,
   "metadata": {},
   "outputs": [
    {
     "name": "stdout",
     "output_type": "stream",
     "text": [
      "Updating ...\n",
      "Update 1: 741 East Philadelphia Street YORK CITY \n",
      "Update 2: 58 North State Street YORK CITY \n",
      "Update 3: 672 East Philadelphia Street YORK CITY \n",
      "Update 4: 506 East Philadelphia Street YORK CITY \n",
      "Update 5: 242 East Prospect Street YORK CITY \n",
      "Update 6: 729 East Clarke Avenue YORK CITY \n",
      "Update 7: 244 Liberty Court YORK CITY \n",
      "Update 8: 709 West Princess Street YORK CITY \n",
      "Update 9: 658 East Market Street YORK CITY \n",
      "Update 10: 726 Glen Place YORK CITY \n",
      "Update limit reached.  Stopping.\n",
      "10 SSAPs updated.\n",
      "Done.\n",
      "You will need to re-enable updates to re-run this cell.\n"
     ]
    }
   ],
   "source": [
    "########################################\n",
    "###                                  ###\n",
    "###  RUN THIS CELL TO APPLY UPDATES  ###\n",
    "###                                  ###\n",
    "########################################\n",
    "try:\n",
    "    ENABLE_UPDATE\n",
    "except:\n",
    "    print('Run following cell to enable updates then come back here.')\n",
    "    ENABLE_UPDATE = False\n",
    "    \n",
    "if not ENABLE_UPDATE:\n",
    "    print('Updates not enabled ... skipping cell')\n",
    "else:\n",
    "    UPDATE_LIMIT = None\n",
    "    if UPDATE_ONE_ONLY:\n",
    "        UPDATE_LIMIT = 1\n",
    "    elif UPDATE_TEN_ONLY:\n",
    "        UPDATE_LIMIT = 10\n",
    "    try:\n",
    "        PIDN_CorrectionList\n",
    "        PCL_exists = True\n",
    "    except:\n",
    "        PCL_exists = False\n",
    "        print('Error: no PIDN_CorrectionList -- cells run out of sequence?')\n",
    "    if PCL_exists and (not mismatchFound):\n",
    "        print('No mismatches were found -- nothing to update')\n",
    "\n",
    "if ENABLE_UPDATE and PCL_exists and mismatchFound:\n",
    "    from arcpy.da import UpdateCursor\n",
    "    import time\n",
    "    \n",
    "    print('Updating ...')\n",
    "    updateStartBaselineSeconds = int(time.time())\n",
    "    updateCount = 0\n",
    "    # for correctionDict in PIDN_CorrectionList:\n",
    "    while PIDN_CorrectionList:\n",
    "        correctionDict = PIDN_CorrectionList.pop(0)\n",
    "        GID_ToMatch = correctionDict['SSAP_GlobalID']\n",
    "        with UpdateCursor(ssapLayer, ['PIDN'],\n",
    "          where_clause=\"GlobalID = '{}'\".format(GID_ToMatch)) as updatePIDN:\n",
    "            try:\n",
    "                thisSSAP_PIDN = next(updatePIDN)\n",
    "            except:\n",
    "                print(f'''\n",
    "                \n",
    "                Unexpected error retrieving SSAP w/ GlobalID {GID_ToMatch}\n",
    "                Stopping.\n",
    "\n",
    "                You will need to re-enable updates to re-run this cell.\n",
    "\n",
    "                ''')\n",
    "                print('Stopping.')\n",
    "                ENABLE_UPDATE = False\n",
    "                raise\n",
    "            newPIDN = correctionDict['CorrectPIDN']\n",
    "            updatePIDN.updateRow( [newPIDN] )\n",
    "        del updatePIDN # to be sure (with clause should handle this)\n",
    "        addrString = addressStringFromCorrectionEntry(correctionDict)\n",
    "        updateCount += 1\n",
    "        print('Update {}: {}'.format(updateCount, addrString))\n",
    "        if UPDATE_LIMIT and (updateCount >= UPDATE_LIMIT):\n",
    "            print('Update limit reached.  Stopping.')\n",
    "            break\n",
    "        if UPDATE_MINUTES_MAXIMUM:\n",
    "            updateMinutes = (time.time() - updateStartBaselineSeconds) / 60\n",
    "            if updateMinutes > UPDATE_MINUTES_MAXIMUM:\n",
    "                print(f'''\n",
    "            Reached time limit for updates.\n",
    "            You can re-enable via cells below and run this cell again\n",
    "            to continue where you left off, for another {UPDATE_MINUTES_MAXIMUM} minutes.''')\n",
    "                break\n",
    "    print(f'{updateCount} SSAPs updated.')\n",
    "    print('Done.')\n",
    "\n",
    "ENABLE_UPDATE = False\n",
    "print('You will need to re-enable updates to re-run this cell.')           \n"
   ]
  },
  {
   "cell_type": "markdown",
   "metadata": {},
   "source": [
    "## Enable *one* update as test (run following cell)"
   ]
  },
  {
   "cell_type": "code",
   "execution_count": 79,
   "metadata": {},
   "outputs": [
    {
     "name": "stdout",
     "output_type": "stream",
     "text": [
      "Now run the cell above\n"
     ]
    }
   ],
   "source": [
    "ENABLE_UPDATE = True\n",
    "UPDATE_ONE_ONLY = True\n",
    "print('Now run the cell above')"
   ]
  },
  {
   "cell_type": "markdown",
   "metadata": {},
   "source": [
    "## Enable *ten* updates to time/benchmark"
   ]
  },
  {
   "cell_type": "code",
   "execution_count": 81,
   "metadata": {},
   "outputs": [],
   "source": [
    "ENABLE_UPDATE = True\n",
    "UPDATE_ONE_ONLY = False\n",
    "UPDATE_TEN_ONLY = True"
   ]
  },
  {
   "cell_type": "markdown",
   "metadata": {},
   "source": [
    "## Enable updates for 'x' minutes (set in below cell)\n",
    "A time limit for updates behaves like the other (count) limits, in that if you re-run the update cell, it will continue updating where you left off."
   ]
  },
  {
   "cell_type": "code",
   "execution_count": 44,
   "metadata": {},
   "outputs": [],
   "source": [
    "UPDATE_MINUTES_MAXIMUM = 1\n",
    "ENABLE_UPDATE = True\n",
    "UPDATE_ONE_ONLY = False\n",
    "UPDATE_TEN_ONLY = False"
   ]
  },
  {
   "cell_type": "markdown",
   "metadata": {},
   "source": [
    "## Enable full updates (run following cell)"
   ]
  },
  {
   "cell_type": "code",
   "execution_count": null,
   "metadata": {},
   "outputs": [],
   "source": [
    "ENABLE_UPDATE = True\n",
    "UPDATE_ONE_ONLY = False\n",
    "UPDATE_TEN_ONLY = False\n",
    "UPDATE_MINUTES_MAXIMUM = None"
   ]
  },
  {
   "cell_type": "markdown",
   "metadata": {},
   "source": [
    "## Disable updates"
   ]
  },
  {
   "cell_type": "code",
   "execution_count": null,
   "metadata": {},
   "outputs": [],
   "source": [
    "ENABLE_UPDATE = False"
   ]
  },
  {
   "cell_type": "markdown",
   "metadata": {},
   "source": [
    "# End of notebook"
   ]
  }
 ],
 "metadata": {
  "kernelspec": {
   "display_name": "ArcGISPro",
   "language": "Python",
   "name": "python3"
  },
  "language_info": {
   "file_extension": ".py",
   "name": "python",
   "version": "3"
  }
 },
 "nbformat": 4,
 "nbformat_minor": 2
}
